{
 "cells": [
  {
   "cell_type": "code",
   "execution_count": 2,
   "metadata": {},
   "outputs": [],
   "source": [
    "import numpy as np\n",
    "import os\n",
    "import glob\n",
    "import pandas as pd\n",
    "from statsmodels.sandbox.stats.multicomp import multipletests\n",
    "import numpy as np\n",
    "from subprocess import call"
   ]
  },
  {
   "cell_type": "code",
   "execution_count": 3,
   "metadata": {},
   "outputs": [],
   "source": [
    "dir_pre = \"/mnt/hpc/home/xuxinran/DirectSeq/data/zhaolin_240206/240201-zhaolin-RNA-merge/v0.7.2/apa/nano_merge\"\n",
    "\n",
    "output_path = f\"{dir_pre}_signal_3aqtl.csv\"\n",
    "output_all_path = f\"{dir_pre}_polyA_SNP.csv\""
   ]
  },
  {
   "cell_type": "code",
   "execution_count": 4,
   "metadata": {},
   "outputs": [],
   "source": [
    "files = glob.glob(f'{dir_pre}_haplotype_chr*_tmp.csv')\n",
    "dfs = [pd.read_csv(file) for file in files]\n",
    "df = pd.concat(dfs, ignore_index=True)\n",
    "df = df.sort_values(by=['chrom', 'snp_pos_1base'])\n",
    "df = df.reset_index(drop=True)"
   ]
  },
  {
   "cell_type": "code",
   "execution_count": 6,
   "metadata": {},
   "outputs": [
    {
     "name": "stdout",
     "output_type": "stream",
     "text": [
      "pvalue小于0.05的个数： 561\n",
      "pvalue小于0.01的个数： 225\n",
      "fdr小于0.1的个数： 106\n"
     ]
    }
   ],
   "source": [
    "p_adjusted = multipletests(df[\"p_value\"], method='fdr_bh')\n",
    "df['fdr'] = p_adjusted[1]\n",
    "print(\"pvalue小于0.05的个数：\", len(df[df['p_value']<0.05]))\n",
    "print(\"pvalue小于0.01的个数：\", len(df[df['p_value']<0.01]))\n",
    "print(\"fdr小于0.1的个数：\", len(df[df['fdr']<0.1]))"
   ]
  },
  {
   "cell_type": "code",
   "execution_count": 7,
   "metadata": {},
   "outputs": [
    {
     "data": {
      "text/plain": [
       "0"
      ]
     },
     "execution_count": 7,
     "metadata": {},
     "output_type": "execute_result"
    }
   ],
   "source": [
    "result_df = df[df['p_value']<0.05]\n",
    "result_df.to_csv(output_path, index=False)\n",
    "df.to_csv(output_all_path, index=False)\n",
    "call(f'rm {dir_pre}_haplotype_chr*_tmp.csv',shell=True)"
   ]
  },
  {
   "cell_type": "code",
   "execution_count": 17,
   "metadata": {},
   "outputs": [
    {
     "name": "stdout",
     "output_type": "stream",
     "text": [
      "      ref  alt\n",
      "APA2    0    1\n",
      "APA4    1    0\n",
      "APA1    2    0\n",
      "APA3    0    1\n",
      "        ref  alt\n",
      "APA1      2    0\n",
      "others    1    2\n"
     ]
    }
   ],
   "source": [
    "from collections import Counter\n",
    "import pandas as pd\n",
    "\n",
    "def analyze_snp_apa(dict1, dict2):\n",
    "    # 步骤1：根据SNP将read分类\n",
    "    ref_reads = set()\n",
    "    alt_reads = set()\n",
    "    for read_id, base in dict1.items():\n",
    "        if base == 'ref':\n",
    "            ref_reads.add(read_id)\n",
    "        elif base == 'alt':\n",
    "            alt_reads.add(read_id)\n",
    "\n",
    "    # 步骤2：统计每类read的APA分类\n",
    "    ref_apa = Counter(dict2[read_id] for read_id in ref_reads if read_id in dict2)\n",
    "    alt_apa = Counter(dict2[read_id] for read_id in alt_reads if read_id in dict2)\n",
    "\n",
    "    # 步骤3：创建多维表\n",
    "    all_apa_types = set(ref_apa.keys()) | set(alt_apa.keys())\n",
    "    data = {\n",
    "        'ref': [ref_apa.get(apa, 0) for apa in all_apa_types],\n",
    "        'alt': [alt_apa.get(apa, 0) for apa in all_apa_types]\n",
    "    }\n",
    "    df = pd.DataFrame(data, index=list(all_apa_types))\n",
    "    print(df)\n",
    "\n",
    "    # 步骤4：找出总数最多的APA分类，并创建四格表\n",
    "    total_counts = df.sum(axis=1)\n",
    "    top_apa = total_counts.idxmax()\n",
    "    \n",
    "    new_df = pd.DataFrame({\n",
    "        'ref': [df.loc[top_apa, 'ref'], df.drop(top_apa).sum()['ref']],\n",
    "        'alt': [df.loc[top_apa, 'alt'], df.drop(top_apa).sum()['alt']]\n",
    "    }, index=[top_apa, 'others'])\n",
    "    \n",
    "    return new_df\n",
    "\n",
    "# 使用示例\n",
    "dict1 = {'read1': 'ref', 'read2': 'alt', 'read3': 'ref', 'read4': 'alt', 'read5': 'ref'}\n",
    "dict2 = {'read1': 'APA1', 'read2': 'APA2', 'read3': 'APA1', 'read4': 'APA3', 'read5': 'APA4'}\n",
    "\n",
    "result = analyze_snp_apa(dict1, dict2)\n",
    "print(result)"
   ]
  },
  {
   "cell_type": "code",
   "execution_count": 19,
   "metadata": {},
   "outputs": [
    {
     "data": {
      "text/plain": [
       "['APA1', 'others']"
      ]
     },
     "execution_count": 19,
     "metadata": {},
     "output_type": "execute_result"
    }
   ],
   "source": [
    "result.index.tolist()"
   ]
  }
 ],
 "metadata": {
  "kernelspec": {
   "display_name": "methy",
   "language": "python",
   "name": "python3"
  },
  "language_info": {
   "codemirror_mode": {
    "name": "ipython",
    "version": 3
   },
   "file_extension": ".py",
   "mimetype": "text/x-python",
   "name": "python",
   "nbconvert_exporter": "python",
   "pygments_lexer": "ipython3",
   "version": "3.10.8"
  }
 },
 "nbformat": 4,
 "nbformat_minor": 2
}
