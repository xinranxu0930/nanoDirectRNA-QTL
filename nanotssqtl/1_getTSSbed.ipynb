{
 "cells": [
  {
   "cell_type": "code",
   "execution_count": 1,
   "metadata": {},
   "outputs": [],
   "source": [
    "import pandas as pd"
   ]
  },
  {
   "cell_type": "code",
   "execution_count": 4,
   "metadata": {},
   "outputs": [],
   "source": [
    "input_file = '/mnt/hpc/home/xuxinran/REF/hg19/FANTOM5_CAGEpeak_TSS_human.bed.gz'\n",
    "output_file = '/mnt/hpc/home/xuxinran/DirectSeq/nanotssqtl/TSSregion.bed'"
   ]
  },
  {
   "cell_type": "code",
   "execution_count": 5,
   "metadata": {},
   "outputs": [
    {
     "name": "stderr",
     "output_type": "stream",
     "text": [
      "/tmp/ipykernel_1179/2669781825.py:6: SettingWithCopyWarning: \n",
      "A value is trying to be set on a copy of a slice from a DataFrame.\n",
      "Try using .loc[row_indexer,col_indexer] = value instead\n",
      "\n",
      "See the caveats in the documentation: https://pandas.pydata.org/pandas-docs/stable/user_guide/indexing.html#returning-a-view-versus-a-copy\n",
      "  f_df['start'] = f_df['start'] - 50\n",
      "/tmp/ipykernel_1179/2669781825.py:7: SettingWithCopyWarning: \n",
      "A value is trying to be set on a copy of a slice from a DataFrame.\n",
      "Try using .loc[row_indexer,col_indexer] = value instead\n",
      "\n",
      "See the caveats in the documentation: https://pandas.pydata.org/pandas-docs/stable/user_guide/indexing.html#returning-a-view-versus-a-copy\n",
      "  f_df['end'] = f_df['end'] + 20\n",
      "/tmp/ipykernel_1179/2669781825.py:9: SettingWithCopyWarning: \n",
      "A value is trying to be set on a copy of a slice from a DataFrame.\n",
      "Try using .loc[row_indexer,col_indexer] = value instead\n",
      "\n",
      "See the caveats in the documentation: https://pandas.pydata.org/pandas-docs/stable/user_guide/indexing.html#returning-a-view-versus-a-copy\n",
      "  r_df['start'] = r_df['start'] - 20\n",
      "/tmp/ipykernel_1179/2669781825.py:10: SettingWithCopyWarning: \n",
      "A value is trying to be set on a copy of a slice from a DataFrame.\n",
      "Try using .loc[row_indexer,col_indexer] = value instead\n",
      "\n",
      "See the caveats in the documentation: https://pandas.pydata.org/pandas-docs/stable/user_guide/indexing.html#returning-a-view-versus-a-copy\n",
      "  r_df['end'] = r_df['end'] + 50\n"
     ]
    }
   ],
   "source": [
    "df = pd.read_csv(input_file, skiprows=1, sep='\\t', header=None, usecols=[0, 1, 2, 3, 4, 5], names=['chrom', 'start', 'end', 'name', 'score', 'strand'])\n",
    "autosomes = [f'chr{i}' for i in range(1, 23)]\n",
    "autosomal_df = df[df['chrom'].isin(autosomes)]\n",
    "# 这里扩一下TSS的范围 |——50bp——CAGE peak——20bp——|\n",
    "f_df = autosomal_df[autosomal_df['strand'] == '+']\n",
    "f_df['start'] = f_df['start'] - 50\n",
    "f_df['end'] = f_df['end'] + 20\n",
    "r_df = autosomal_df[autosomal_df['strand'] == '-']\n",
    "r_df['start'] = r_df['start'] - 20\n",
    "r_df['end'] = r_df['end'] + 50\n",
    "autosomal_df = pd.concat([f_df, r_df])\n",
    "autosomal_df = autosomal_df.drop_duplicates().sort_values(by=['chrom', 'start'])\n",
    "autosomal_df.to_csv(output_file, sep='\\t', header=False, index=False)"
   ]
  }
 ],
 "metadata": {
  "kernelspec": {
   "display_name": "methy",
   "language": "python",
   "name": "python3"
  },
  "language_info": {
   "codemirror_mode": {
    "name": "ipython",
    "version": 3
   },
   "file_extension": ".py",
   "mimetype": "text/x-python",
   "name": "python",
   "nbconvert_exporter": "python",
   "pygments_lexer": "ipython3",
   "version": "3.10.8"
  }
 },
 "nbformat": 4,
 "nbformat_minor": 2
}
