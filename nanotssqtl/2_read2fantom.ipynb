{
 "cells": [
  {
   "cell_type": "code",
   "execution_count": 1,
   "metadata": {},
   "outputs": [],
   "source": [
    "import pysam\n",
    "from subprocess import call\n",
    "import pandas as pd"
   ]
  },
  {
   "cell_type": "code",
   "execution_count": 4,
   "metadata": {},
   "outputs": [],
   "source": [
    "bam0 = \"/mnt/hpc/home/xuxinran/DirectSeq/data/zhaolin_240206/240201-zhaolin-RNA-merge/v0.7.2/bam/m6A/nano_merge_map0.bam\"\n",
    "bam16 = \"/mnt/hpc/home/xuxinran/DirectSeq/data/zhaolin_240206/240201-zhaolin-RNA-merge/v0.7.2/bam/m6A/nano_merge_map16.bam\"\n",
    "\n",
    "pre = '/mnt/hpc/home/xuxinran/DirectSeq/data/zhaolin_240206/240201-zhaolin-RNA-merge/v0.7.2/tss/nano_merge'\n",
    "tss_bed = \"/mnt/hpc/home/xuxinran/DirectSeq/nanotssqtl/TSSregion.bed\""
   ]
  },
  {
   "cell_type": "code",
   "execution_count": 16,
   "metadata": {},
   "outputs": [],
   "source": [
    "def get_TSS(bamfile, strand):\n",
    "    res_dict = set()\n",
    "    samfile = pysam.AlignmentFile(bamfile, \"rb\")\n",
    "    for read in samfile:\n",
    "        chrom = read.reference_name\n",
    "        if chrom in [f'chr{i}' for i in range(1, 23)]:\n",
    "            if strand == '+':\n",
    "                s = read.reference_start -1\n",
    "                e = read.reference_start +1\n",
    "            else:  # strand == '-'\n",
    "                s = read.reference_end\n",
    "                e = read.reference_end +2\n",
    "            res_dict.add((chrom, s, e, read.query_name, 0, strand))\n",
    "    return res_dict"
   ]
  },
  {
   "cell_type": "code",
   "execution_count": 5,
   "metadata": {},
   "outputs": [
    {
     "data": {
      "text/plain": [
       "0"
      ]
     },
     "execution_count": 5,
     "metadata": {},
     "output_type": "execute_result"
    }
   ],
   "source": [
    "res_dict_0 = get_TSS(bam0, \"+\")\n",
    "res_dict_16 = get_TSS(bam16, \"-\")\n",
    "\n",
    "merged_set = res_dict_0.union(res_dict_16)\n",
    "\n",
    "# 将集合内容写入BED文件\n",
    "with open(f'{pre}_read5.bed', 'w') as file:\n",
    "    for item in merged_set:\n",
    "        file.write('\\t'.join(map(str, item)) + '\\n')\n",
    "\n",
    "call(f'bedtools intersect -s -a {pre}_read5.bed -b {tss_bed} -wa -wb> {pre}_overlap.bed',shell=True)\n",
    "call(f\"awk '!seen[$4]++' {pre}_overlap.bed > {pre}_overlap_uniq.bed\",shell=True)\n",
    "call(f'rm {pre}_overlap.bed',shell=True)"
   ]
  }
 ],
 "metadata": {
  "kernelspec": {
   "display_name": "methy",
   "language": "python",
   "name": "python3"
  },
  "language_info": {
   "codemirror_mode": {
    "name": "ipython",
    "version": 3
   },
   "file_extension": ".py",
   "mimetype": "text/x-python",
   "name": "python",
   "nbconvert_exporter": "python",
   "pygments_lexer": "ipython3",
   "version": "3.10.8"
  }
 },
 "nbformat": 4,
 "nbformat_minor": 2
}
