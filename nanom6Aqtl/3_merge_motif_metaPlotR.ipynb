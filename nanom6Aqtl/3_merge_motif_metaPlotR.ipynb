{
 "cells": [
  {
   "cell_type": "code",
   "execution_count": 1,
   "metadata": {},
   "outputs": [],
   "source": [
    "import os\n",
    "import glob\n",
    "import pandas as pd\n",
    "import pickle\n",
    "from subprocess import call\n",
    "import re\n",
    "from itertools import groupby\n",
    "import logomaker\n",
    "import matplotlib.pyplot as plt\n",
    "from Bio import SeqIO"
   ]
  },
  {
   "cell_type": "code",
   "execution_count": 2,
   "metadata": {},
   "outputs": [],
   "source": [
    "pre_path = \"/mnt/hpc/home/xuxinran/DirectSeq/data/zhaolin_240206/240201-zhaolin-RNA-merge/v0.7.2/m6A/nano_merge\"\n",
    "fa_file = \"/mnt/hpc/home/xuxinran/REF/hg19/hg19.fa\""
   ]
  },
  {
   "cell_type": "code",
   "execution_count": 3,
   "metadata": {},
   "outputs": [],
   "source": [
    "res_path = f\"{pre_path}_m6A_sites.csv\"\n",
    "pkl_f_path = f\"{pre_path}_m6A_read_tmp_f.pkl\"\n",
    "pkl_r_path = f\"{pre_path}_m6A_read_tmp_r.pkl\"\n",
    "\n",
    "metaPlotR_path = f\"{pre_path}_metaPlotR.bed\""
   ]
  },
  {
   "cell_type": "code",
   "execution_count": 4,
   "metadata": {},
   "outputs": [],
   "source": [
    "def fasta_iter(fasta_name):\n",
    "    with open(fasta_name) as filename:\n",
    "        faiter = (x[1] for x in groupby(filename, lambda line: line[0] == \">\"))\n",
    "        for header in faiter:\n",
    "            header_str = next(header)[1:].strip()  # 使用next代替__next__，并修改变量名\n",
    "            seq = \"\".join(s.strip() for s in next(faiter))  # 使用next代替__next__\n",
    "            yield header_str, seq  # 使用yield代替return\n",
    "\n",
    "def get_reverse_complementary_sequence(seq):\n",
    "    seqreverse = seq[::-1]\n",
    "    transtable = str.maketrans('ATGCatgc','TACGtacg')\n",
    "    finalseq = seqreverse.translate(transtable)\n",
    "    return finalseq"
   ]
  },
  {
   "cell_type": "code",
   "execution_count": 9,
   "metadata": {},
   "outputs": [],
   "source": [
    "## 全部的site\n",
    "## 此时的df里面可能会包括site不是A的位点 后期需要筛选\n",
    "files_f = glob.glob(f'{pre_path}_m6A_sites_chr*_+_tmp.csv')\n",
    "files_r = glob.glob(f'{pre_path}_m6A_sites_chr*_-_tmp.csv')\n",
    "dfs_f = [pd.read_csv(file) for file in files_f]\n",
    "dfs_r = [pd.read_csv(file) for file in files_r]\n",
    "# 将这些文件的内容合并到一个 DataFrame 中\n",
    "df_f = pd.concat(dfs_f, ignore_index=True)\n",
    "df_r = pd.concat(dfs_r, ignore_index=True)\n",
    "df = pd.concat([df_f, df_r], ignore_index=True)\n",
    "df = df.sort_values(by=['chrom', 'pos_1base'])\n",
    "\n",
    "# 找到所有匹配的文件\n",
    "files_r = glob.glob(f'{pre_path}_m6A_read_chr*_-_tmp.pkl')\n",
    "files_f = glob.glob(f'{pre_path}_m6A_read_chr*_+_tmp.pkl')\n",
    "# 读取这些文件的内容\n",
    "dicts_r = [pickle.load(open(file, 'rb')) for file in files_r]\n",
    "dicts_f = [pickle.load(open(file, 'rb')) for file in files_f]\n",
    "# 将这些文件的内容合并到一个字典中\n",
    "merged_dict_r = {k: v for d in dicts_r for k, v in d.items()}\n",
    "merged_dict_f = {k: v for d in dicts_f for k, v in d.items()}"
   ]
  },
  {
   "cell_type": "code",
   "execution_count": 10,
   "metadata": {},
   "outputs": [
    {
     "name": "stderr",
     "output_type": "stream",
     "text": [
      "/tmp/ipykernel_18812/2537578925.py:13: SettingWithCopyWarning: \n",
      "A value is trying to be set on a copy of a slice from a DataFrame.\n",
      "Try using .loc[row_indexer,col_indexer] = value instead\n",
      "\n",
      "See the caveats in the documentation: https://pandas.pydata.org/pandas-docs/stable/user_guide/indexing.html#returning-a-view-versus-a-copy\n",
      "  get_fasta.loc[:,'score'] = 0\n",
      "/tmp/ipykernel_18812/2537578925.py:14: SettingWithCopyWarning: \n",
      "A value is trying to be set on a copy of a slice from a DataFrame.\n",
      "Try using .loc[row_indexer,col_indexer] = value instead\n",
      "\n",
      "See the caveats in the documentation: https://pandas.pydata.org/pandas-docs/stable/user_guide/indexing.html#returning-a-view-versus-a-copy\n",
      "  get_fasta.loc[:,'strand'] = df['strand']\n"
     ]
    },
    {
     "data": {
      "text/plain": [
       "0"
      ]
     },
     "execution_count": 10,
     "metadata": {},
     "output_type": "execute_result"
    }
   ],
   "source": [
    "## 获取motif\n",
    "s = 2\n",
    "e = 2\n",
    "\n",
    "df['name'] = df['chrom'] + '_' + df['pos_1base'].astype(str)+ '_' + df['strand']\n",
    "df.loc[df['strand'] == '+', 'Start'] = df.loc[df['strand'] == '+', 'pos_1base'] - s - 1\n",
    "df.loc[df['strand'] == '+', 'End'] = df.loc[df['strand'] == '+', 'pos_1base'] + e\n",
    "df.loc[df['strand'] == '-', 'Start'] = df.loc[df['strand'] == '-', 'pos_1base'] - e - 1\n",
    "df.loc[df['strand'] == '-', 'End'] = df.loc[df['strand'] == '-', 'pos_1base'] + s\n",
    "df['Start'] = df['Start'].astype(int)\n",
    "df['End'] = df['End'].astype(int)\n",
    "get_fasta = df[['chrom','Start','End','name']]\n",
    "get_fasta.loc[:,'score'] = 0\n",
    "get_fasta.loc[:,'strand'] = df['strand']\n",
    "get_fasta.to_csv(f\"{pre_path}.bed\", header=None, sep=\"\\t\",index=False)\n",
    "\n",
    "call(f\"bedtools getfasta -name -s -fi {fa_file} -bed {pre_path}.bed -fo {pre_path}.fa\",shell=True)"
   ]
  },
  {
   "cell_type": "code",
   "execution_count": 11,
   "metadata": {},
   "outputs": [],
   "source": [
    "# motif筛选\n",
    "fasta_dict = {}\n",
    "with open(f\"{pre_path}.fa\", \"r\") as handle:\n",
    "    for record in SeqIO.parse(handle, \"fasta\"):\n",
    "        fasta_dict[record.id.split(\"::\")[0]] = str(record.seq)\n",
    "\n",
    "df['motif_fa'] = df['name'].apply(lambda x: fasta_dict[x])\n",
    "df['base'] = df['motif_fa'].apply(lambda x: x[2])\n",
    "\n",
    "df_save = df[(df['base']==\"A\")|(df['base']==\"a\")]\n",
    "df_save = df_save[['chrom','pos_1base','strand','methy_num', \"cov\", 'methy_rate', 'motif']]\n",
    "df_save.to_csv(res_path, index=False)\n",
    "\n",
    "df_save['pos_0base'] = df_save['pos_1base'] - 1\n",
    "df_save['k'] = df_save['chrom'] + '_' + df_save['pos_0base'].astype(str) + '_' + df_save['strand']\n",
    "readid_set = set(df_save['k'])\n",
    "filtered_merged_dict_r = {key: value for key, value in merged_dict_r.items() if key in readid_set}\n",
    "filtered_merged_dict_f = {key: value for key, value in merged_dict_f.items() if key in readid_set}\n",
    "with open(pkl_r_path, 'wb') as file:\n",
    "    pickle.dump(filtered_merged_dict_r, file)\n",
    "with open(pkl_f_path, 'wb') as file:\n",
    "    pickle.dump(filtered_merged_dict_f, file)"
   ]
  },
  {
   "cell_type": "code",
   "execution_count": 14,
   "metadata": {},
   "outputs": [
    {
     "data": {
      "text/plain": [
       "0"
      ]
     },
     "execution_count": 14,
     "metadata": {},
     "output_type": "execute_result"
    }
   ],
   "source": [
    "call(f'rm {pre_path}.bed {pre_path}.fa {pre_path}_m6A_read_chr*_tmp.pkl {pre_path}_m6A_sites_chr*_tmp.csv',shell=True)"
   ]
  },
  {
   "cell_type": "code",
   "execution_count": 12,
   "metadata": {},
   "outputs": [
    {
     "data": {
      "image/png": "[encoded data removed]",
      "text/plain": [
       "<Figure size 500x400 with 1 Axes>"
      ]
     },
     "metadata": {},
     "output_type": "display_data"
    }
   ],
   "source": [
    "# 绘制motif图\n",
    "df_save = df[(df['base']==\"A\")|(df['base']==\"a\")]\n",
    "sequences = df_save['motif_fa'].str.upper().tolist()\n",
    "# 计算频率矩阵\n",
    "counts_df = logomaker.alignment_to_matrix(sequences, to_type='counts')\n",
    "\n",
    "# 将counts矩阵转化为比例矩阵\n",
    "freq_df = counts_df.div(counts_df.sum(axis=1), axis=0)\n",
    "fig, ax = plt.subplots(figsize=(5, 4)) # 5位\n",
    "\n",
    "# 创建序列logo\n",
    "logo = logomaker.Logo(freq_df, ax=ax)\n",
    "# 设置颜色方案\n",
    "color_scheme = {\n",
    "    'A': 'red',\n",
    "    'C': 'blue',\n",
    "    'G': 'orange',\n",
    "    'T': 'green'\n",
    "}\n",
    "logo.style_glyphs(color_scheme=color_scheme)\n",
    "# 调整logo样式\n",
    "logo.style_spines(visible=False)\n",
    "logo.style_spines(spines=['left', 'bottom'], visible=True)\n",
    "logo.ax.set_ylabel('Frequency')\n",
    "logo.ax.set_xlabel('Position')\n",
    "logo.ax.xaxis.set_ticks_position('none')\n",
    "logo.ax.yaxis.set_ticks_position('none')\n",
    "logo.ax.xaxis.set_tick_params(width=0)\n",
    "logo.ax.yaxis.set_tick_params(width=0)\n",
    "\n",
    "# 调整字体宽度和紧凑度\n",
    "for spine in ax.spines.values():\n",
    "    spine.set_visible(False)\n",
    "\n",
    "plt.xticks(fontsize=12)\n",
    "plt.yticks(fontsize=12)\n",
    "plt.tight_layout()\n",
    "\n",
    "# 显示logo\n",
    "plt.show()\n"
   ]
  },
  {
   "cell_type": "code",
   "execution_count": 13,
   "metadata": {},
   "outputs": [],
   "source": [
    "## 生成metaPlotR文件\n",
    "df_metaPlotR = df[(df['base']==\"A\")|(df['base']==\"a\")]\n",
    "df_metaPlotR = df_metaPlotR[(df_metaPlotR['cov']>10)&(df_metaPlotR['methy_rate']>50)]\n",
    "df_metaPlotR['pos_0base'] = df_metaPlotR['pos_1base'] - 1\n",
    "df_metaPlotR['ratio'] = df_metaPlotR['methy_rate'].astype(float)/100\n",
    "df_metaPlotR['index'] = pd.Series(range(1, len(df_metaPlotR) + 1))\n",
    "df_metaPlotR = df_metaPlotR[['chrom', 'pos_0base', 'pos_1base','index', 'ratio','strand']]\n",
    "df_metaPlotR.to_csv(metaPlotR_path, index=False,sep=\"\\t\",header=False)\n"
   ]
  }
 ],
 "metadata": {
  "kernelspec": {
   "display_name": "methy",
   "language": "python",
   "name": "python3"
  },
  "language_info": {
   "codemirror_mode": {
    "name": "ipython",
    "version": 3
   },
   "file_extension": ".py",
   "mimetype": "text/x-python",
   "name": "python",
   "nbconvert_exporter": "python",
   "pygments_lexer": "ipython3",
   "version": "3.10.8"
  }
 },
 "nbformat": 4,
 "nbformat_minor": 2
}
