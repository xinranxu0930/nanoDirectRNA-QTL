{
 "cells": [
  {
   "cell_type": "code",
   "execution_count": 1,
   "metadata": {},
   "outputs": [],
   "source": [
    "import numpy as np\n",
    "import os\n",
    "import glob\n",
    "import pandas as pd\n",
    "from statsmodels.sandbox.stats.multicomp import multipletests\n",
    "import numpy as np\n",
    "from subprocess import call"
   ]
  },
  {
   "cell_type": "code",
   "execution_count": 2,
   "metadata": {},
   "outputs": [],
   "source": [
    "dir_pre = \"/mnt/hpc/home/xuxinran/DirectSeq/data/zhaolin_240206/240201-zhaolin-RNA-merge/v0.7.2/m6A/nano_merge\"\n",
    "\n",
    "output_path = f\"{dir_pre}_signal_m6Aqtl.csv\"\n",
    "output_all_path = f\"{dir_pre}_m6A_SNP.csv\""
   ]
  },
  {
   "cell_type": "code",
   "execution_count": 3,
   "metadata": {},
   "outputs": [
    {
     "name": "stderr",
     "output_type": "stream",
     "text": [
      "/tmp/ipykernel_32517/2477843569.py:2: DtypeWarning: Columns (11) have mixed types. Specify dtype option on import or set low_memory=False.\n",
      "  dfs = [pd.read_csv(file) for file in files]\n",
      "/tmp/ipykernel_32517/2477843569.py:2: DtypeWarning: Columns (11) have mixed types. Specify dtype option on import or set low_memory=False.\n",
      "  dfs = [pd.read_csv(file) for file in files]\n",
      "/tmp/ipykernel_32517/2477843569.py:2: DtypeWarning: Columns (11) have mixed types. Specify dtype option on import or set low_memory=False.\n",
      "  dfs = [pd.read_csv(file) for file in files]\n",
      "/tmp/ipykernel_32517/2477843569.py:2: DtypeWarning: Columns (11) have mixed types. Specify dtype option on import or set low_memory=False.\n",
      "  dfs = [pd.read_csv(file) for file in files]\n",
      "/tmp/ipykernel_32517/2477843569.py:2: DtypeWarning: Columns (11) have mixed types. Specify dtype option on import or set low_memory=False.\n",
      "  dfs = [pd.read_csv(file) for file in files]\n",
      "/tmp/ipykernel_32517/2477843569.py:2: DtypeWarning: Columns (11) have mixed types. Specify dtype option on import or set low_memory=False.\n",
      "  dfs = [pd.read_csv(file) for file in files]\n",
      "/tmp/ipykernel_32517/2477843569.py:2: DtypeWarning: Columns (11) have mixed types. Specify dtype option on import or set low_memory=False.\n",
      "  dfs = [pd.read_csv(file) for file in files]\n",
      "/tmp/ipykernel_32517/2477843569.py:2: DtypeWarning: Columns (11) have mixed types. Specify dtype option on import or set low_memory=False.\n",
      "  dfs = [pd.read_csv(file) for file in files]\n",
      "/tmp/ipykernel_32517/2477843569.py:2: DtypeWarning: Columns (11) have mixed types. Specify dtype option on import or set low_memory=False.\n",
      "  dfs = [pd.read_csv(file) for file in files]\n",
      "/tmp/ipykernel_32517/2477843569.py:2: DtypeWarning: Columns (11) have mixed types. Specify dtype option on import or set low_memory=False.\n",
      "  dfs = [pd.read_csv(file) for file in files]\n"
     ]
    }
   ],
   "source": [
    "files = glob.glob(f'{dir_pre}_haplotype_chr*_tmp.csv')\n",
    "dfs = [pd.read_csv(file) for file in files]\n",
    "df = pd.concat(dfs, ignore_index=True)\n",
    "df = df.sort_values(by=['chrom', 'm6A_pos_1base', 'snp_pos_1base'])\n",
    "df = df.reset_index(drop=True)"
   ]
  },
  {
   "cell_type": "code",
   "execution_count": 5,
   "metadata": {},
   "outputs": [
    {
     "name": "stdout",
     "output_type": "stream",
     "text": [
      "覆盖的snp数量： 42589\n"
     ]
    }
   ],
   "source": [
    "unique_rows = df[['chrom', 'snp_pos_1base']].drop_duplicates()\n",
    "num_unique_rows = unique_rows.shape[0]\n",
    "print(\"覆盖的snp数量：\",num_unique_rows)"
   ]
  },
  {
   "cell_type": "code",
   "execution_count": 6,
   "metadata": {},
   "outputs": [
    {
     "name": "stdout",
     "output_type": "stream",
     "text": [
      "pvalue小于0.05的个数： 11234\n",
      "pvalue小于0.01的个数： 2616\n",
      "fdr小于0.1的个数： 421\n",
      "m6Aqtl同时也是m6A的个数：  88\n"
     ]
    }
   ],
   "source": [
    "p_adjusted = multipletests(df[\"p_value\"], method='fdr_bh')\n",
    "df['fdr'] = p_adjusted[1]\n",
    "print(\"pvalue小于0.05的个数：\", len(df[df['p_value']<0.05]))\n",
    "print(\"pvalue小于0.01的个数：\", len(df[df['p_value']<0.01]))\n",
    "print(\"fdr小于0.1的个数：\", len(df[df['fdr']<0.1]))\n",
    "print(\"m6Aqtl同时也是m6A的个数： \", len(df[(df['ism6A?']==\"Yes\")&(df['p_value']<0.05)]))"
   ]
  },
  {
   "cell_type": "code",
   "execution_count": 7,
   "metadata": {},
   "outputs": [
    {
     "data": {
      "text/plain": [
       "0"
      ]
     },
     "execution_count": 7,
     "metadata": {},
     "output_type": "execute_result"
    }
   ],
   "source": [
    "result_df = df[df['p_value']<0.05]\n",
    "result_df.to_csv(output_path, index=False)\n",
    "df.to_csv(output_all_path, index=False)\n",
    "\n",
    "call(f'rm {dir_pre}_haplotype_chr*_tmp.csv', shell=True)"
   ]
  }
 ],
 "metadata": {
  "kernelspec": {
   "display_name": "methy",
   "language": "python",
   "name": "python3"
  },
  "language_info": {
   "codemirror_mode": {
    "name": "ipython",
    "version": 3
   },
   "file_extension": ".py",
   "mimetype": "text/x-python",
   "name": "python",
   "nbconvert_exporter": "python",
   "pygments_lexer": "ipython3",
   "version": "3.10.8"
  }
 },
 "nbformat": 4,
 "nbformat_minor": 2
}
