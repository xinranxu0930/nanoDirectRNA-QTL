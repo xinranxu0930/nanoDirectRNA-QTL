{
 "cells": [
  {
   "cell_type": "code",
   "execution_count": 1,
   "metadata": {},
   "outputs": [],
   "source": [
    "import numpy as np\n",
    "import os\n",
    "import glob\n",
    "import pandas as pd\n",
    "from statsmodels.sandbox.stats.multicomp import multipletests\n",
    "import numpy as np\n",
    "from subprocess import call"
   ]
  },
  {
   "cell_type": "code",
   "execution_count": 2,
   "metadata": {},
   "outputs": [],
   "source": [
    "dir_pre = \"/mnt/hpc/home/xuxinran/DirectSeq/data/zhaolin_240206/240201-zhaolin-RNA-merge/v0.7.2/pseU/nano_merge\"\n",
    "\n",
    "output_path = f\"{dir_pre}_signal_pseUqtl.csv\"\n"
   ]
  },
  {
   "cell_type": "code",
   "execution_count": 3,
   "metadata": {},
   "outputs": [],
   "source": [
    "files = glob.glob(f'{dir_pre}_haplotype_chr*_tmp.csv')\n",
    "dfs = [pd.read_csv(file) for file in files]\n",
    "df = pd.concat(dfs, ignore_index=True)\n",
    "df = df.sort_values(by=['chrom', 'pseU_pos_1base', 'snp_pos_1base'])\n",
    "df = df.reset_index(drop=True)"
   ]
  },
  {
   "cell_type": "code",
   "execution_count": 4,
   "metadata": {},
   "outputs": [
    {
     "name": "stdout",
     "output_type": "stream",
     "text": [
      "pvalue小于0.05的个数： 1254\n",
      "pvalue小于0.01的个数： 233\n",
      "fdr小于0.1的个数： 24\n",
      "pseUqtl同时也是pseU的个数：  8\n"
     ]
    }
   ],
   "source": [
    "p_adjusted = multipletests(df[\"p_value\"], method='fdr_bh')\n",
    "df['fdr'] = p_adjusted[1]\n",
    "print(\"pvalue小于0.05的个数：\", len(df[df['p_value']<0.05]))\n",
    "print(\"pvalue小于0.01的个数：\", len(df[df['p_value']<0.01]))\n",
    "print(\"fdr小于0.1的个数：\", len(df[df['fdr']<0.1]))\n",
    "print(\"pseUqtl同时也是pseU的个数： \", len(df[(df['ispseU?']==\"Yes\")&(df['p_value']<0.05)]))"
   ]
  },
  {
   "cell_type": "code",
   "execution_count": 6,
   "metadata": {},
   "outputs": [
    {
     "data": {
      "text/plain": [
       "0"
      ]
     },
     "execution_count": 6,
     "metadata": {},
     "output_type": "execute_result"
    }
   ],
   "source": [
    "result_df = df[df['p_value']<0.05]\n",
    "result_df.to_csv(output_path, index=False)\n",
    "call(f'rm {dir_pre}_haplotype_chr*_tmp.csv',shell=True)"
   ]
  }
 ],
 "metadata": {
  "kernelspec": {
   "display_name": "methy",
   "language": "python",
   "name": "python3"
  },
  "language_info": {
   "codemirror_mode": {
    "name": "ipython",
    "version": 3
   },
   "file_extension": ".py",
   "mimetype": "text/x-python",
   "name": "python",
   "nbconvert_exporter": "python",
   "pygments_lexer": "ipython3",
   "version": "3.10.8"
  }
 },
 "nbformat": 4,
 "nbformat_minor": 2
}
