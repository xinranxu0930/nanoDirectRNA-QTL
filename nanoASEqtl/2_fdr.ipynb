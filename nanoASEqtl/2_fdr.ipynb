{
 "cells": [
  {
   "cell_type": "code",
   "execution_count": 1,
   "metadata": {},
   "outputs": [],
   "source": [
    "import numpy as np\n",
    "import os\n",
    "import glob\n",
    "import pandas as pd\n",
    "from statsmodels.sandbox.stats.multicomp import multipletests\n",
    "import numpy as np\n",
    "import scipy.stats as stats\n",
    "import statsmodels.api as sm\n",
    "from subprocess import call"
   ]
  },
  {
   "cell_type": "code",
   "execution_count": 3,
   "metadata": {},
   "outputs": [],
   "source": [
    "dir_pre = \"/mnt/hpc/home/xuxinran/DirectSeq/data/zhaolin_240206/240201-zhaolin-RNA-merge/v0.7.2/ASE/nano_merge\"\n",
    "cov = 100\n",
    "output_path = f\"{dir_pre}_signal_eqtl.csv\"\n",
    "output_all_path = f\"{dir_pre}_ASE_SNP.csv\""
   ]
  },
  {
   "cell_type": "code",
   "execution_count": 8,
   "metadata": {},
   "outputs": [],
   "source": [
    "files = glob.glob(f'{dir_pre}_haplotype_chr*_tmp.csv')\n",
    "dfs = [pd.read_csv(file) for file in files]\n",
    "df = pd.concat(dfs, ignore_index=True)\n",
    "df = df.sort_values(by=['chrom', 'snp_pos_1base'])\n",
    "df = df.reset_index(drop=True)\n",
    "df['cov'] = df['A1_num']+df['A2_num']\n",
    "df = df[df['cov'] >= cov]"
   ]
  },
  {
   "cell_type": "code",
   "execution_count": 10,
   "metadata": {},
   "outputs": [],
   "source": [
    "# binomial distribution\n",
    "def binomial_distribution_logaFC(ref_num, alt_num, bias):\n",
    "    total_num = ref_num + alt_num\n",
    "    p_value = stats.binomtest(ref_num, total_num, bias, alternative='two-sided').pvalue\n",
    "    p_value = max(p_value, 1e-300)\n",
    "    if ref_num == 0:\n",
    "        beta = np.log2(alt_num + 1)  # 或者返回一个大值，表示替代等位基因表达显著高于参考等位基因\n",
    "        se = None  # 当ref_num为0时，SE无法计算，设为无穷大，返回None\n",
    "    elif alt_num == 0:\n",
    "        beta = np.log2(1 / (ref_num + 1))  # 或者返回一个小值，表示参考等位基因表达显著高于替代等位基因\n",
    "        se = None  # 当alt_num为0时，SE无法计算，设为无穷大，返回None\n",
    "    else:\n",
    "        beta = np.log2(ref_num / alt_num)\n",
    "        se = np.sqrt((1/ref_num + 1/alt_num) / (np.log(2)**2))\n",
    "    return p_value, beta, se\n",
    "\n",
    "def apply_simulate(row):\n",
    "    return binomial_distribution_logaFC(row['A1_num'], row['A2_num'], row['EAF'])"
   ]
  },
  {
   "cell_type": "code",
   "execution_count": 11,
   "metadata": {},
   "outputs": [],
   "source": [
    "results = df.apply(apply_simulate, axis=1, result_type='expand')\n",
    "df[['p_value','beta','SE']] = results"
   ]
  },
  {
   "cell_type": "code",
   "execution_count": 12,
   "metadata": {},
   "outputs": [
    {
     "name": "stdout",
     "output_type": "stream",
     "text": [
      "pvalue小于0.05的个数： 3557\n",
      "pvalue小于0.01的个数： 2775\n",
      "fdr小于0.1的个数： 3367\n"
     ]
    }
   ],
   "source": [
    "p_adjusted = multipletests(df[\"p_value\"], method='fdr_bh')\n",
    "df['fdr'] = p_adjusted[1]\n",
    "print(\"pvalue小于0.05的个数：\", len(df[df['p_value']<0.05]))\n",
    "print(\"pvalue小于0.01的个数：\", len(df[df['p_value']<0.01]))\n",
    "print(\"fdr小于0.1的个数：\", len(df[df['fdr']<0.1]))"
   ]
  },
  {
   "cell_type": "code",
   "execution_count": 13,
   "metadata": {},
   "outputs": [
    {
     "data": {
      "text/plain": [
       "0"
      ]
     },
     "execution_count": 13,
     "metadata": {},
     "output_type": "execute_result"
    }
   ],
   "source": [
    "result_df = df[df['p_value']<0.05]\n",
    "result_df.to_csv(output_path, index=False)\n",
    "df.to_csv(output_all_path,index=False)\n",
    "\n",
    "call(f'rm {dir_pre}_haplotype_chr*_tmp.csv',shell=True)"
   ]
  }
 ],
 "metadata": {
  "kernelspec": {
   "display_name": "methy",
   "language": "python",
   "name": "python3"
  },
  "language_info": {
   "codemirror_mode": {
    "name": "ipython",
    "version": 3
   },
   "file_extension": ".py",
   "mimetype": "text/x-python",
   "name": "python",
   "nbconvert_exporter": "python",
   "pygments_lexer": "ipython3",
   "version": "3.10.8"
  }
 },
 "nbformat": 4,
 "nbformat_minor": 2
}
